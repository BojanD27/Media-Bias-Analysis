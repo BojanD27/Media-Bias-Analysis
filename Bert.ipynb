{
  "nbformat": 4,
  "nbformat_minor": 0,
  "metadata": {
    "colab": {
      "name": "Bert.ipynb",
      "provenance": [],
      "collapsed_sections": []
    },
    "kernelspec": {
      "name": "python3",
      "display_name": "Python 3"
    },
    "language_info": {
      "name": "python"
    },
    "widgets": {
      "application/vnd.jupyter.widget-state+json": {
        "c6c744eba9124275bcd1411d84d7e5d3": {
          "model_module": "@jupyter-widgets/controls",
          "model_name": "HBoxModel",
          "model_module_version": "1.5.0",
          "state": {
            "_view_name": "HBoxView",
            "_dom_classes": [],
            "_model_name": "HBoxModel",
            "_view_module": "@jupyter-widgets/controls",
            "_model_module_version": "1.5.0",
            "_view_count": null,
            "_view_module_version": "1.5.0",
            "box_style": "",
            "layout": "IPY_MODEL_b6f7e3daefd2490b8b1dd06c9f907047",
            "_model_module": "@jupyter-widgets/controls",
            "children": [
              "IPY_MODEL_15b6cbf6a92748ff842516c005613251",
              "IPY_MODEL_8a9d50befbb24b73a8640d2e595c5790",
              "IPY_MODEL_1765849eb5f24408b2242c2733ee96fd"
            ]
          }
        },
        "b6f7e3daefd2490b8b1dd06c9f907047": {
          "model_module": "@jupyter-widgets/base",
          "model_name": "LayoutModel",
          "model_module_version": "1.2.0",
          "state": {
            "_view_name": "LayoutView",
            "grid_template_rows": null,
            "right": null,
            "justify_content": null,
            "_view_module": "@jupyter-widgets/base",
            "overflow": null,
            "_model_module_version": "1.2.0",
            "_view_count": null,
            "flex_flow": null,
            "width": null,
            "min_width": null,
            "border": null,
            "align_items": null,
            "bottom": null,
            "_model_module": "@jupyter-widgets/base",
            "top": null,
            "grid_column": null,
            "overflow_y": null,
            "overflow_x": null,
            "grid_auto_flow": null,
            "grid_area": null,
            "grid_template_columns": null,
            "flex": null,
            "_model_name": "LayoutModel",
            "justify_items": null,
            "grid_row": null,
            "max_height": null,
            "align_content": null,
            "visibility": null,
            "align_self": null,
            "height": null,
            "min_height": null,
            "padding": null,
            "grid_auto_rows": null,
            "grid_gap": null,
            "max_width": null,
            "order": null,
            "_view_module_version": "1.2.0",
            "grid_template_areas": null,
            "object_position": null,
            "object_fit": null,
            "grid_auto_columns": null,
            "margin": null,
            "display": null,
            "left": null
          }
        },
        "15b6cbf6a92748ff842516c005613251": {
          "model_module": "@jupyter-widgets/controls",
          "model_name": "HTMLModel",
          "model_module_version": "1.5.0",
          "state": {
            "_view_name": "HTMLView",
            "style": "IPY_MODEL_3085912d4ded4d67bf9e3d72da86ecb4",
            "_dom_classes": [],
            "description": "",
            "_model_name": "HTMLModel",
            "placeholder": "​",
            "_view_module": "@jupyter-widgets/controls",
            "_model_module_version": "1.5.0",
            "value": "Downloading: 100%",
            "_view_count": null,
            "_view_module_version": "1.5.0",
            "description_tooltip": null,
            "_model_module": "@jupyter-widgets/controls",
            "layout": "IPY_MODEL_19c210ea3d6e46ccade776565228e41b"
          }
        },
        "8a9d50befbb24b73a8640d2e595c5790": {
          "model_module": "@jupyter-widgets/controls",
          "model_name": "FloatProgressModel",
          "model_module_version": "1.5.0",
          "state": {
            "_view_name": "ProgressView",
            "style": "IPY_MODEL_409fcefbedaa478ca20e889ae070bc64",
            "_dom_classes": [],
            "description": "",
            "_model_name": "FloatProgressModel",
            "bar_style": "success",
            "max": 231508,
            "_view_module": "@jupyter-widgets/controls",
            "_model_module_version": "1.5.0",
            "value": 231508,
            "_view_count": null,
            "_view_module_version": "1.5.0",
            "orientation": "horizontal",
            "min": 0,
            "description_tooltip": null,
            "_model_module": "@jupyter-widgets/controls",
            "layout": "IPY_MODEL_c81140974a914fac8a0e1c5c32ed4e7b"
          }
        },
        "1765849eb5f24408b2242c2733ee96fd": {
          "model_module": "@jupyter-widgets/controls",
          "model_name": "HTMLModel",
          "model_module_version": "1.5.0",
          "state": {
            "_view_name": "HTMLView",
            "style": "IPY_MODEL_a06a77d780d74a7b8f9a7500943e1ebc",
            "_dom_classes": [],
            "description": "",
            "_model_name": "HTMLModel",
            "placeholder": "​",
            "_view_module": "@jupyter-widgets/controls",
            "_model_module_version": "1.5.0",
            "value": " 232k/232k [00:00&lt;00:00, 912kB/s]",
            "_view_count": null,
            "_view_module_version": "1.5.0",
            "description_tooltip": null,
            "_model_module": "@jupyter-widgets/controls",
            "layout": "IPY_MODEL_9cd22831718348a59f41d2d2d43db2fb"
          }
        },
        "3085912d4ded4d67bf9e3d72da86ecb4": {
          "model_module": "@jupyter-widgets/controls",
          "model_name": "DescriptionStyleModel",
          "model_module_version": "1.5.0",
          "state": {
            "_view_name": "StyleView",
            "_model_name": "DescriptionStyleModel",
            "description_width": "",
            "_view_module": "@jupyter-widgets/base",
            "_model_module_version": "1.5.0",
            "_view_count": null,
            "_view_module_version": "1.2.0",
            "_model_module": "@jupyter-widgets/controls"
          }
        },
        "19c210ea3d6e46ccade776565228e41b": {
          "model_module": "@jupyter-widgets/base",
          "model_name": "LayoutModel",
          "model_module_version": "1.2.0",
          "state": {
            "_view_name": "LayoutView",
            "grid_template_rows": null,
            "right": null,
            "justify_content": null,
            "_view_module": "@jupyter-widgets/base",
            "overflow": null,
            "_model_module_version": "1.2.0",
            "_view_count": null,
            "flex_flow": null,
            "width": null,
            "min_width": null,
            "border": null,
            "align_items": null,
            "bottom": null,
            "_model_module": "@jupyter-widgets/base",
            "top": null,
            "grid_column": null,
            "overflow_y": null,
            "overflow_x": null,
            "grid_auto_flow": null,
            "grid_area": null,
            "grid_template_columns": null,
            "flex": null,
            "_model_name": "LayoutModel",
            "justify_items": null,
            "grid_row": null,
            "max_height": null,
            "align_content": null,
            "visibility": null,
            "align_self": null,
            "height": null,
            "min_height": null,
            "padding": null,
            "grid_auto_rows": null,
            "grid_gap": null,
            "max_width": null,
            "order": null,
            "_view_module_version": "1.2.0",
            "grid_template_areas": null,
            "object_position": null,
            "object_fit": null,
            "grid_auto_columns": null,
            "margin": null,
            "display": null,
            "left": null
          }
        },
        "409fcefbedaa478ca20e889ae070bc64": {
          "model_module": "@jupyter-widgets/controls",
          "model_name": "ProgressStyleModel",
          "model_module_version": "1.5.0",
          "state": {
            "_view_name": "StyleView",
            "_model_name": "ProgressStyleModel",
            "description_width": "",
            "_view_module": "@jupyter-widgets/base",
            "_model_module_version": "1.5.0",
            "_view_count": null,
            "_view_module_version": "1.2.0",
            "bar_color": null,
            "_model_module": "@jupyter-widgets/controls"
          }
        },
        "c81140974a914fac8a0e1c5c32ed4e7b": {
          "model_module": "@jupyter-widgets/base",
          "model_name": "LayoutModel",
          "model_module_version": "1.2.0",
          "state": {
            "_view_name": "LayoutView",
            "grid_template_rows": null,
            "right": null,
            "justify_content": null,
            "_view_module": "@jupyter-widgets/base",
            "overflow": null,
            "_model_module_version": "1.2.0",
            "_view_count": null,
            "flex_flow": null,
            "width": null,
            "min_width": null,
            "border": null,
            "align_items": null,
            "bottom": null,
            "_model_module": "@jupyter-widgets/base",
            "top": null,
            "grid_column": null,
            "overflow_y": null,
            "overflow_x": null,
            "grid_auto_flow": null,
            "grid_area": null,
            "grid_template_columns": null,
            "flex": null,
            "_model_name": "LayoutModel",
            "justify_items": null,
            "grid_row": null,
            "max_height": null,
            "align_content": null,
            "visibility": null,
            "align_self": null,
            "height": null,
            "min_height": null,
            "padding": null,
            "grid_auto_rows": null,
            "grid_gap": null,
            "max_width": null,
            "order": null,
            "_view_module_version": "1.2.0",
            "grid_template_areas": null,
            "object_position": null,
            "object_fit": null,
            "grid_auto_columns": null,
            "margin": null,
            "display": null,
            "left": null
          }
        },
        "a06a77d780d74a7b8f9a7500943e1ebc": {
          "model_module": "@jupyter-widgets/controls",
          "model_name": "DescriptionStyleModel",
          "model_module_version": "1.5.0",
          "state": {
            "_view_name": "StyleView",
            "_model_name": "DescriptionStyleModel",
            "description_width": "",
            "_view_module": "@jupyter-widgets/base",
            "_model_module_version": "1.5.0",
            "_view_count": null,
            "_view_module_version": "1.2.0",
            "_model_module": "@jupyter-widgets/controls"
          }
        },
        "9cd22831718348a59f41d2d2d43db2fb": {
          "model_module": "@jupyter-widgets/base",
          "model_name": "LayoutModel",
          "model_module_version": "1.2.0",
          "state": {
            "_view_name": "LayoutView",
            "grid_template_rows": null,
            "right": null,
            "justify_content": null,
            "_view_module": "@jupyter-widgets/base",
            "overflow": null,
            "_model_module_version": "1.2.0",
            "_view_count": null,
            "flex_flow": null,
            "width": null,
            "min_width": null,
            "border": null,
            "align_items": null,
            "bottom": null,
            "_model_module": "@jupyter-widgets/base",
            "top": null,
            "grid_column": null,
            "overflow_y": null,
            "overflow_x": null,
            "grid_auto_flow": null,
            "grid_area": null,
            "grid_template_columns": null,
            "flex": null,
            "_model_name": "LayoutModel",
            "justify_items": null,
            "grid_row": null,
            "max_height": null,
            "align_content": null,
            "visibility": null,
            "align_self": null,
            "height": null,
            "min_height": null,
            "padding": null,
            "grid_auto_rows": null,
            "grid_gap": null,
            "max_width": null,
            "order": null,
            "_view_module_version": "1.2.0",
            "grid_template_areas": null,
            "object_position": null,
            "object_fit": null,
            "grid_auto_columns": null,
            "margin": null,
            "display": null,
            "left": null
          }
        },
        "4b8ca97f95034472bb322573d0bc3375": {
          "model_module": "@jupyter-widgets/controls",
          "model_name": "HBoxModel",
          "model_module_version": "1.5.0",
          "state": {
            "_view_name": "HBoxView",
            "_dom_classes": [],
            "_model_name": "HBoxModel",
            "_view_module": "@jupyter-widgets/controls",
            "_model_module_version": "1.5.0",
            "_view_count": null,
            "_view_module_version": "1.5.0",
            "box_style": "",
            "layout": "IPY_MODEL_0b9f77270a9b4ef58a00ebcac32e45bf",
            "_model_module": "@jupyter-widgets/controls",
            "children": [
              "IPY_MODEL_79e55f8b5b2a414ea063fb289c1cc72a",
              "IPY_MODEL_ba7aa2203d0849dd9447057331e94096",
              "IPY_MODEL_ef60698351ea4680856f22b56619aabf"
            ]
          }
        },
        "0b9f77270a9b4ef58a00ebcac32e45bf": {
          "model_module": "@jupyter-widgets/base",
          "model_name": "LayoutModel",
          "model_module_version": "1.2.0",
          "state": {
            "_view_name": "LayoutView",
            "grid_template_rows": null,
            "right": null,
            "justify_content": null,
            "_view_module": "@jupyter-widgets/base",
            "overflow": null,
            "_model_module_version": "1.2.0",
            "_view_count": null,
            "flex_flow": null,
            "width": null,
            "min_width": null,
            "border": null,
            "align_items": null,
            "bottom": null,
            "_model_module": "@jupyter-widgets/base",
            "top": null,
            "grid_column": null,
            "overflow_y": null,
            "overflow_x": null,
            "grid_auto_flow": null,
            "grid_area": null,
            "grid_template_columns": null,
            "flex": null,
            "_model_name": "LayoutModel",
            "justify_items": null,
            "grid_row": null,
            "max_height": null,
            "align_content": null,
            "visibility": null,
            "align_self": null,
            "height": null,
            "min_height": null,
            "padding": null,
            "grid_auto_rows": null,
            "grid_gap": null,
            "max_width": null,
            "order": null,
            "_view_module_version": "1.2.0",
            "grid_template_areas": null,
            "object_position": null,
            "object_fit": null,
            "grid_auto_columns": null,
            "margin": null,
            "display": null,
            "left": null
          }
        },
        "79e55f8b5b2a414ea063fb289c1cc72a": {
          "model_module": "@jupyter-widgets/controls",
          "model_name": "HTMLModel",
          "model_module_version": "1.5.0",
          "state": {
            "_view_name": "HTMLView",
            "style": "IPY_MODEL_1eb936b1306c4e6496a780a4770d44d5",
            "_dom_classes": [],
            "description": "",
            "_model_name": "HTMLModel",
            "placeholder": "​",
            "_view_module": "@jupyter-widgets/controls",
            "_model_module_version": "1.5.0",
            "value": "Downloading: 100%",
            "_view_count": null,
            "_view_module_version": "1.5.0",
            "description_tooltip": null,
            "_model_module": "@jupyter-widgets/controls",
            "layout": "IPY_MODEL_5e09c6eb8da149e2ae9ddc5e3ca8eaa0"
          }
        },
        "ba7aa2203d0849dd9447057331e94096": {
          "model_module": "@jupyter-widgets/controls",
          "model_name": "FloatProgressModel",
          "model_module_version": "1.5.0",
          "state": {
            "_view_name": "ProgressView",
            "style": "IPY_MODEL_4ebd3dfb5f714acba39210f6766444ba",
            "_dom_classes": [],
            "description": "",
            "_model_name": "FloatProgressModel",
            "bar_style": "success",
            "max": 433,
            "_view_module": "@jupyter-widgets/controls",
            "_model_module_version": "1.5.0",
            "value": 433,
            "_view_count": null,
            "_view_module_version": "1.5.0",
            "orientation": "horizontal",
            "min": 0,
            "description_tooltip": null,
            "_model_module": "@jupyter-widgets/controls",
            "layout": "IPY_MODEL_a2bc3a57b7f442638c753cba2724c2f8"
          }
        },
        "ef60698351ea4680856f22b56619aabf": {
          "model_module": "@jupyter-widgets/controls",
          "model_name": "HTMLModel",
          "model_module_version": "1.5.0",
          "state": {
            "_view_name": "HTMLView",
            "style": "IPY_MODEL_676dbd8b5d6842dfad88a5d22e5eaece",
            "_dom_classes": [],
            "description": "",
            "_model_name": "HTMLModel",
            "placeholder": "​",
            "_view_module": "@jupyter-widgets/controls",
            "_model_module_version": "1.5.0",
            "value": " 433/433 [00:00&lt;00:00, 12.0kB/s]",
            "_view_count": null,
            "_view_module_version": "1.5.0",
            "description_tooltip": null,
            "_model_module": "@jupyter-widgets/controls",
            "layout": "IPY_MODEL_c4d1f753ce564a54b98e452e05a8add0"
          }
        },
        "1eb936b1306c4e6496a780a4770d44d5": {
          "model_module": "@jupyter-widgets/controls",
          "model_name": "DescriptionStyleModel",
          "model_module_version": "1.5.0",
          "state": {
            "_view_name": "StyleView",
            "_model_name": "DescriptionStyleModel",
            "description_width": "",
            "_view_module": "@jupyter-widgets/base",
            "_model_module_version": "1.5.0",
            "_view_count": null,
            "_view_module_version": "1.2.0",
            "_model_module": "@jupyter-widgets/controls"
          }
        },
        "5e09c6eb8da149e2ae9ddc5e3ca8eaa0": {
          "model_module": "@jupyter-widgets/base",
          "model_name": "LayoutModel",
          "model_module_version": "1.2.0",
          "state": {
            "_view_name": "LayoutView",
            "grid_template_rows": null,
            "right": null,
            "justify_content": null,
            "_view_module": "@jupyter-widgets/base",
            "overflow": null,
            "_model_module_version": "1.2.0",
            "_view_count": null,
            "flex_flow": null,
            "width": null,
            "min_width": null,
            "border": null,
            "align_items": null,
            "bottom": null,
            "_model_module": "@jupyter-widgets/base",
            "top": null,
            "grid_column": null,
            "overflow_y": null,
            "overflow_x": null,
            "grid_auto_flow": null,
            "grid_area": null,
            "grid_template_columns": null,
            "flex": null,
            "_model_name": "LayoutModel",
            "justify_items": null,
            "grid_row": null,
            "max_height": null,
            "align_content": null,
            "visibility": null,
            "align_self": null,
            "height": null,
            "min_height": null,
            "padding": null,
            "grid_auto_rows": null,
            "grid_gap": null,
            "max_width": null,
            "order": null,
            "_view_module_version": "1.2.0",
            "grid_template_areas": null,
            "object_position": null,
            "object_fit": null,
            "grid_auto_columns": null,
            "margin": null,
            "display": null,
            "left": null
          }
        },
        "4ebd3dfb5f714acba39210f6766444ba": {
          "model_module": "@jupyter-widgets/controls",
          "model_name": "ProgressStyleModel",
          "model_module_version": "1.5.0",
          "state": {
            "_view_name": "StyleView",
            "_model_name": "ProgressStyleModel",
            "description_width": "",
            "_view_module": "@jupyter-widgets/base",
            "_model_module_version": "1.5.0",
            "_view_count": null,
            "_view_module_version": "1.2.0",
            "bar_color": null,
            "_model_module": "@jupyter-widgets/controls"
          }
        },
        "a2bc3a57b7f442638c753cba2724c2f8": {
          "model_module": "@jupyter-widgets/base",
          "model_name": "LayoutModel",
          "model_module_version": "1.2.0",
          "state": {
            "_view_name": "LayoutView",
            "grid_template_rows": null,
            "right": null,
            "justify_content": null,
            "_view_module": "@jupyter-widgets/base",
            "overflow": null,
            "_model_module_version": "1.2.0",
            "_view_count": null,
            "flex_flow": null,
            "width": null,
            "min_width": null,
            "border": null,
            "align_items": null,
            "bottom": null,
            "_model_module": "@jupyter-widgets/base",
            "top": null,
            "grid_column": null,
            "overflow_y": null,
            "overflow_x": null,
            "grid_auto_flow": null,
            "grid_area": null,
            "grid_template_columns": null,
            "flex": null,
            "_model_name": "LayoutModel",
            "justify_items": null,
            "grid_row": null,
            "max_height": null,
            "align_content": null,
            "visibility": null,
            "align_self": null,
            "height": null,
            "min_height": null,
            "padding": null,
            "grid_auto_rows": null,
            "grid_gap": null,
            "max_width": null,
            "order": null,
            "_view_module_version": "1.2.0",
            "grid_template_areas": null,
            "object_position": null,
            "object_fit": null,
            "grid_auto_columns": null,
            "margin": null,
            "display": null,
            "left": null
          }
        },
        "676dbd8b5d6842dfad88a5d22e5eaece": {
          "model_module": "@jupyter-widgets/controls",
          "model_name": "DescriptionStyleModel",
          "model_module_version": "1.5.0",
          "state": {
            "_view_name": "StyleView",
            "_model_name": "DescriptionStyleModel",
            "description_width": "",
            "_view_module": "@jupyter-widgets/base",
            "_model_module_version": "1.5.0",
            "_view_count": null,
            "_view_module_version": "1.2.0",
            "_model_module": "@jupyter-widgets/controls"
          }
        },
        "c4d1f753ce564a54b98e452e05a8add0": {
          "model_module": "@jupyter-widgets/base",
          "model_name": "LayoutModel",
          "model_module_version": "1.2.0",
          "state": {
            "_view_name": "LayoutView",
            "grid_template_rows": null,
            "right": null,
            "justify_content": null,
            "_view_module": "@jupyter-widgets/base",
            "overflow": null,
            "_model_module_version": "1.2.0",
            "_view_count": null,
            "flex_flow": null,
            "width": null,
            "min_width": null,
            "border": null,
            "align_items": null,
            "bottom": null,
            "_model_module": "@jupyter-widgets/base",
            "top": null,
            "grid_column": null,
            "overflow_y": null,
            "overflow_x": null,
            "grid_auto_flow": null,
            "grid_area": null,
            "grid_template_columns": null,
            "flex": null,
            "_model_name": "LayoutModel",
            "justify_items": null,
            "grid_row": null,
            "max_height": null,
            "align_content": null,
            "visibility": null,
            "align_self": null,
            "height": null,
            "min_height": null,
            "padding": null,
            "grid_auto_rows": null,
            "grid_gap": null,
            "max_width": null,
            "order": null,
            "_view_module_version": "1.2.0",
            "grid_template_areas": null,
            "object_position": null,
            "object_fit": null,
            "grid_auto_columns": null,
            "margin": null,
            "display": null,
            "left": null
          }
        },
        "e9eba8124e9a482abb774f227c61531e": {
          "model_module": "@jupyter-widgets/controls",
          "model_name": "HBoxModel",
          "model_module_version": "1.5.0",
          "state": {
            "_view_name": "HBoxView",
            "_dom_classes": [],
            "_model_name": "HBoxModel",
            "_view_module": "@jupyter-widgets/controls",
            "_model_module_version": "1.5.0",
            "_view_count": null,
            "_view_module_version": "1.5.0",
            "box_style": "",
            "layout": "IPY_MODEL_d4f194610fc244969835170a251c17d1",
            "_model_module": "@jupyter-widgets/controls",
            "children": [
              "IPY_MODEL_0db35bfcfdbe4ae5968aa24908a99af9",
              "IPY_MODEL_d63ec6204724478cacfbb1b8997ca634",
              "IPY_MODEL_8d3dbe6b83bb477f8ef063f93c7b2ac5"
            ]
          }
        },
        "d4f194610fc244969835170a251c17d1": {
          "model_module": "@jupyter-widgets/base",
          "model_name": "LayoutModel",
          "model_module_version": "1.2.0",
          "state": {
            "_view_name": "LayoutView",
            "grid_template_rows": null,
            "right": null,
            "justify_content": null,
            "_view_module": "@jupyter-widgets/base",
            "overflow": null,
            "_model_module_version": "1.2.0",
            "_view_count": null,
            "flex_flow": null,
            "width": null,
            "min_width": null,
            "border": null,
            "align_items": null,
            "bottom": null,
            "_model_module": "@jupyter-widgets/base",
            "top": null,
            "grid_column": null,
            "overflow_y": null,
            "overflow_x": null,
            "grid_auto_flow": null,
            "grid_area": null,
            "grid_template_columns": null,
            "flex": null,
            "_model_name": "LayoutModel",
            "justify_items": null,
            "grid_row": null,
            "max_height": null,
            "align_content": null,
            "visibility": null,
            "align_self": null,
            "height": null,
            "min_height": null,
            "padding": null,
            "grid_auto_rows": null,
            "grid_gap": null,
            "max_width": null,
            "order": null,
            "_view_module_version": "1.2.0",
            "grid_template_areas": null,
            "object_position": null,
            "object_fit": null,
            "grid_auto_columns": null,
            "margin": null,
            "display": null,
            "left": null
          }
        },
        "0db35bfcfdbe4ae5968aa24908a99af9": {
          "model_module": "@jupyter-widgets/controls",
          "model_name": "HTMLModel",
          "model_module_version": "1.5.0",
          "state": {
            "_view_name": "HTMLView",
            "style": "IPY_MODEL_eb00a33b3af645d69330c48cbde65a70",
            "_dom_classes": [],
            "description": "",
            "_model_name": "HTMLModel",
            "placeholder": "​",
            "_view_module": "@jupyter-widgets/controls",
            "_model_module_version": "1.5.0",
            "value": "Downloading: 100%",
            "_view_count": null,
            "_view_module_version": "1.5.0",
            "description_tooltip": null,
            "_model_module": "@jupyter-widgets/controls",
            "layout": "IPY_MODEL_83fe00f9e70c4dac93e6d52711ab6a07"
          }
        },
        "d63ec6204724478cacfbb1b8997ca634": {
          "model_module": "@jupyter-widgets/controls",
          "model_name": "FloatProgressModel",
          "model_module_version": "1.5.0",
          "state": {
            "_view_name": "ProgressView",
            "style": "IPY_MODEL_c1434927a53d45e6993d2a792fd3a342",
            "_dom_classes": [],
            "description": "",
            "_model_name": "FloatProgressModel",
            "bar_style": "success",
            "max": 440473133,
            "_view_module": "@jupyter-widgets/controls",
            "_model_module_version": "1.5.0",
            "value": 440473133,
            "_view_count": null,
            "_view_module_version": "1.5.0",
            "orientation": "horizontal",
            "min": 0,
            "description_tooltip": null,
            "_model_module": "@jupyter-widgets/controls",
            "layout": "IPY_MODEL_e596f3a28eb54f69ab8d4d3d8ff61e60"
          }
        },
        "8d3dbe6b83bb477f8ef063f93c7b2ac5": {
          "model_module": "@jupyter-widgets/controls",
          "model_name": "HTMLModel",
          "model_module_version": "1.5.0",
          "state": {
            "_view_name": "HTMLView",
            "style": "IPY_MODEL_1b4d71503aa74693b9e1995020134e97",
            "_dom_classes": [],
            "description": "",
            "_model_name": "HTMLModel",
            "placeholder": "​",
            "_view_module": "@jupyter-widgets/controls",
            "_model_module_version": "1.5.0",
            "value": " 440M/440M [00:11&lt;00:00, 36.8MB/s]",
            "_view_count": null,
            "_view_module_version": "1.5.0",
            "description_tooltip": null,
            "_model_module": "@jupyter-widgets/controls",
            "layout": "IPY_MODEL_8c48855ee91b4f1082f2e8c1bc444abb"
          }
        },
        "eb00a33b3af645d69330c48cbde65a70": {
          "model_module": "@jupyter-widgets/controls",
          "model_name": "DescriptionStyleModel",
          "model_module_version": "1.5.0",
          "state": {
            "_view_name": "StyleView",
            "_model_name": "DescriptionStyleModel",
            "description_width": "",
            "_view_module": "@jupyter-widgets/base",
            "_model_module_version": "1.5.0",
            "_view_count": null,
            "_view_module_version": "1.2.0",
            "_model_module": "@jupyter-widgets/controls"
          }
        },
        "83fe00f9e70c4dac93e6d52711ab6a07": {
          "model_module": "@jupyter-widgets/base",
          "model_name": "LayoutModel",
          "model_module_version": "1.2.0",
          "state": {
            "_view_name": "LayoutView",
            "grid_template_rows": null,
            "right": null,
            "justify_content": null,
            "_view_module": "@jupyter-widgets/base",
            "overflow": null,
            "_model_module_version": "1.2.0",
            "_view_count": null,
            "flex_flow": null,
            "width": null,
            "min_width": null,
            "border": null,
            "align_items": null,
            "bottom": null,
            "_model_module": "@jupyter-widgets/base",
            "top": null,
            "grid_column": null,
            "overflow_y": null,
            "overflow_x": null,
            "grid_auto_flow": null,
            "grid_area": null,
            "grid_template_columns": null,
            "flex": null,
            "_model_name": "LayoutModel",
            "justify_items": null,
            "grid_row": null,
            "max_height": null,
            "align_content": null,
            "visibility": null,
            "align_self": null,
            "height": null,
            "min_height": null,
            "padding": null,
            "grid_auto_rows": null,
            "grid_gap": null,
            "max_width": null,
            "order": null,
            "_view_module_version": "1.2.0",
            "grid_template_areas": null,
            "object_position": null,
            "object_fit": null,
            "grid_auto_columns": null,
            "margin": null,
            "display": null,
            "left": null
          }
        },
        "c1434927a53d45e6993d2a792fd3a342": {
          "model_module": "@jupyter-widgets/controls",
          "model_name": "ProgressStyleModel",
          "model_module_version": "1.5.0",
          "state": {
            "_view_name": "StyleView",
            "_model_name": "ProgressStyleModel",
            "description_width": "",
            "_view_module": "@jupyter-widgets/base",
            "_model_module_version": "1.5.0",
            "_view_count": null,
            "_view_module_version": "1.2.0",
            "bar_color": null,
            "_model_module": "@jupyter-widgets/controls"
          }
        },
        "e596f3a28eb54f69ab8d4d3d8ff61e60": {
          "model_module": "@jupyter-widgets/base",
          "model_name": "LayoutModel",
          "model_module_version": "1.2.0",
          "state": {
            "_view_name": "LayoutView",
            "grid_template_rows": null,
            "right": null,
            "justify_content": null,
            "_view_module": "@jupyter-widgets/base",
            "overflow": null,
            "_model_module_version": "1.2.0",
            "_view_count": null,
            "flex_flow": null,
            "width": null,
            "min_width": null,
            "border": null,
            "align_items": null,
            "bottom": null,
            "_model_module": "@jupyter-widgets/base",
            "top": null,
            "grid_column": null,
            "overflow_y": null,
            "overflow_x": null,
            "grid_auto_flow": null,
            "grid_area": null,
            "grid_template_columns": null,
            "flex": null,
            "_model_name": "LayoutModel",
            "justify_items": null,
            "grid_row": null,
            "max_height": null,
            "align_content": null,
            "visibility": null,
            "align_self": null,
            "height": null,
            "min_height": null,
            "padding": null,
            "grid_auto_rows": null,
            "grid_gap": null,
            "max_width": null,
            "order": null,
            "_view_module_version": "1.2.0",
            "grid_template_areas": null,
            "object_position": null,
            "object_fit": null,
            "grid_auto_columns": null,
            "margin": null,
            "display": null,
            "left": null
          }
        },
        "1b4d71503aa74693b9e1995020134e97": {
          "model_module": "@jupyter-widgets/controls",
          "model_name": "DescriptionStyleModel",
          "model_module_version": "1.5.0",
          "state": {
            "_view_name": "StyleView",
            "_model_name": "DescriptionStyleModel",
            "description_width": "",
            "_view_module": "@jupyter-widgets/base",
            "_model_module_version": "1.5.0",
            "_view_count": null,
            "_view_module_version": "1.2.0",
            "_model_module": "@jupyter-widgets/controls"
          }
        },
        "8c48855ee91b4f1082f2e8c1bc444abb": {
          "model_module": "@jupyter-widgets/base",
          "model_name": "LayoutModel",
          "model_module_version": "1.2.0",
          "state": {
            "_view_name": "LayoutView",
            "grid_template_rows": null,
            "right": null,
            "justify_content": null,
            "_view_module": "@jupyter-widgets/base",
            "overflow": null,
            "_model_module_version": "1.2.0",
            "_view_count": null,
            "flex_flow": null,
            "width": null,
            "min_width": null,
            "border": null,
            "align_items": null,
            "bottom": null,
            "_model_module": "@jupyter-widgets/base",
            "top": null,
            "grid_column": null,
            "overflow_y": null,
            "overflow_x": null,
            "grid_auto_flow": null,
            "grid_area": null,
            "grid_template_columns": null,
            "flex": null,
            "_model_name": "LayoutModel",
            "justify_items": null,
            "grid_row": null,
            "max_height": null,
            "align_content": null,
            "visibility": null,
            "align_self": null,
            "height": null,
            "min_height": null,
            "padding": null,
            "grid_auto_rows": null,
            "grid_gap": null,
            "max_width": null,
            "order": null,
            "_view_module_version": "1.2.0",
            "grid_template_areas": null,
            "object_position": null,
            "object_fit": null,
            "grid_auto_columns": null,
            "margin": null,
            "display": null,
            "left": null
          }
        }
      }
    }
  },
  "cells": [
    {
      "cell_type": "code",
      "metadata": {
        "colab": {
          "base_uri": "https://localhost:8080/"
        },
        "id": "-nf2D3h0O7UD",
        "outputId": "442176c7-923d-4f09-9c57-347ffdd48515"
      },
      "source": [
        "from google.colab import drive\n",
        "drive.mount('/content/drive')"
      ],
      "execution_count": null,
      "outputs": [
        {
          "output_type": "stream",
          "name": "stdout",
          "text": [
            "Mounted at /content/drive\n"
          ]
        }
      ]
    },
    {
      "cell_type": "code",
      "metadata": {
        "colab": {
          "base_uri": "https://localhost:8080/"
        },
        "id": "ftGR0iZ8PLme",
        "outputId": "fdfe00e1-90fc-4b62-d6cb-1bf4f93fee72"
      },
      "source": [
        "!pip install transformers==3"
      ],
      "execution_count": null,
      "outputs": [
        {
          "output_type": "stream",
          "name": "stdout",
          "text": [
            "Collecting transformers==3\n",
            "  Downloading transformers-3.0.0-py3-none-any.whl (754 kB)\n",
            "\u001b[?25l\r\u001b[K     |▍                               | 10 kB 21.2 MB/s eta 0:00:01\r\u001b[K     |▉                               | 20 kB 25.6 MB/s eta 0:00:01\r\u001b[K     |█▎                              | 30 kB 29.0 MB/s eta 0:00:01\r\u001b[K     |█▊                              | 40 kB 20.8 MB/s eta 0:00:01\r\u001b[K     |██▏                             | 51 kB 9.3 MB/s eta 0:00:01\r\u001b[K     |██▋                             | 61 kB 10.0 MB/s eta 0:00:01\r\u001b[K     |███                             | 71 kB 8.1 MB/s eta 0:00:01\r\u001b[K     |███▌                            | 81 kB 9.0 MB/s eta 0:00:01\r\u001b[K     |████                            | 92 kB 7.6 MB/s eta 0:00:01\r\u001b[K     |████▍                           | 102 kB 8.2 MB/s eta 0:00:01\r\u001b[K     |████▊                           | 112 kB 8.2 MB/s eta 0:00:01\r\u001b[K     |█████▏                          | 122 kB 8.2 MB/s eta 0:00:01\r\u001b[K     |█████▋                          | 133 kB 8.2 MB/s eta 0:00:01\r\u001b[K     |██████                          | 143 kB 8.2 MB/s eta 0:00:01\r\u001b[K     |██████▌                         | 153 kB 8.2 MB/s eta 0:00:01\r\u001b[K     |███████                         | 163 kB 8.2 MB/s eta 0:00:01\r\u001b[K     |███████▍                        | 174 kB 8.2 MB/s eta 0:00:01\r\u001b[K     |███████▉                        | 184 kB 8.2 MB/s eta 0:00:01\r\u001b[K     |████████▎                       | 194 kB 8.2 MB/s eta 0:00:01\r\u001b[K     |████████▊                       | 204 kB 8.2 MB/s eta 0:00:01\r\u001b[K     |█████████▏                      | 215 kB 8.2 MB/s eta 0:00:01\r\u001b[K     |█████████▌                      | 225 kB 8.2 MB/s eta 0:00:01\r\u001b[K     |██████████                      | 235 kB 8.2 MB/s eta 0:00:01\r\u001b[K     |██████████▍                     | 245 kB 8.2 MB/s eta 0:00:01\r\u001b[K     |██████████▉                     | 256 kB 8.2 MB/s eta 0:00:01\r\u001b[K     |███████████▎                    | 266 kB 8.2 MB/s eta 0:00:01\r\u001b[K     |███████████▊                    | 276 kB 8.2 MB/s eta 0:00:01\r\u001b[K     |████████████▏                   | 286 kB 8.2 MB/s eta 0:00:01\r\u001b[K     |████████████▋                   | 296 kB 8.2 MB/s eta 0:00:01\r\u001b[K     |█████████████                   | 307 kB 8.2 MB/s eta 0:00:01\r\u001b[K     |█████████████▌                  | 317 kB 8.2 MB/s eta 0:00:01\r\u001b[K     |██████████████                  | 327 kB 8.2 MB/s eta 0:00:01\r\u001b[K     |██████████████▎                 | 337 kB 8.2 MB/s eta 0:00:01\r\u001b[K     |██████████████▊                 | 348 kB 8.2 MB/s eta 0:00:01\r\u001b[K     |███████████████▏                | 358 kB 8.2 MB/s eta 0:00:01\r\u001b[K     |███████████████▋                | 368 kB 8.2 MB/s eta 0:00:01\r\u001b[K     |████████████████                | 378 kB 8.2 MB/s eta 0:00:01\r\u001b[K     |████████████████▌               | 389 kB 8.2 MB/s eta 0:00:01\r\u001b[K     |█████████████████               | 399 kB 8.2 MB/s eta 0:00:01\r\u001b[K     |█████████████████▍              | 409 kB 8.2 MB/s eta 0:00:01\r\u001b[K     |█████████████████▉              | 419 kB 8.2 MB/s eta 0:00:01\r\u001b[K     |██████████████████▎             | 430 kB 8.2 MB/s eta 0:00:01\r\u001b[K     |██████████████████▊             | 440 kB 8.2 MB/s eta 0:00:01\r\u001b[K     |███████████████████             | 450 kB 8.2 MB/s eta 0:00:01\r\u001b[K     |███████████████████▌            | 460 kB 8.2 MB/s eta 0:00:01\r\u001b[K     |████████████████████            | 471 kB 8.2 MB/s eta 0:00:01\r\u001b[K     |████████████████████▍           | 481 kB 8.2 MB/s eta 0:00:01\r\u001b[K     |████████████████████▉           | 491 kB 8.2 MB/s eta 0:00:01\r\u001b[K     |█████████████████████▎          | 501 kB 8.2 MB/s eta 0:00:01\r\u001b[K     |█████████████████████▊          | 512 kB 8.2 MB/s eta 0:00:01\r\u001b[K     |██████████████████████▏         | 522 kB 8.2 MB/s eta 0:00:01\r\u001b[K     |██████████████████████▋         | 532 kB 8.2 MB/s eta 0:00:01\r\u001b[K     |███████████████████████         | 542 kB 8.2 MB/s eta 0:00:01\r\u001b[K     |███████████████████████▌        | 552 kB 8.2 MB/s eta 0:00:01\r\u001b[K     |███████████████████████▉        | 563 kB 8.2 MB/s eta 0:00:01\r\u001b[K     |████████████████████████▎       | 573 kB 8.2 MB/s eta 0:00:01\r\u001b[K     |████████████████████████▊       | 583 kB 8.2 MB/s eta 0:00:01\r\u001b[K     |█████████████████████████▏      | 593 kB 8.2 MB/s eta 0:00:01\r\u001b[K     |█████████████████████████▋      | 604 kB 8.2 MB/s eta 0:00:01\r\u001b[K     |██████████████████████████      | 614 kB 8.2 MB/s eta 0:00:01\r\u001b[K     |██████████████████████████▌     | 624 kB 8.2 MB/s eta 0:00:01\r\u001b[K     |███████████████████████████     | 634 kB 8.2 MB/s eta 0:00:01\r\u001b[K     |███████████████████████████▍    | 645 kB 8.2 MB/s eta 0:00:01\r\u001b[K     |███████████████████████████▉    | 655 kB 8.2 MB/s eta 0:00:01\r\u001b[K     |████████████████████████████▎   | 665 kB 8.2 MB/s eta 0:00:01\r\u001b[K     |████████████████████████████▋   | 675 kB 8.2 MB/s eta 0:00:01\r\u001b[K     |█████████████████████████████   | 686 kB 8.2 MB/s eta 0:00:01\r\u001b[K     |█████████████████████████████▌  | 696 kB 8.2 MB/s eta 0:00:01\r\u001b[K     |██████████████████████████████  | 706 kB 8.2 MB/s eta 0:00:01\r\u001b[K     |██████████████████████████████▍ | 716 kB 8.2 MB/s eta 0:00:01\r\u001b[K     |██████████████████████████████▉ | 727 kB 8.2 MB/s eta 0:00:01\r\u001b[K     |███████████████████████████████▎| 737 kB 8.2 MB/s eta 0:00:01\r\u001b[K     |███████████████████████████████▊| 747 kB 8.2 MB/s eta 0:00:01\r\u001b[K     |████████████████████████████████| 754 kB 8.2 MB/s \n",
            "\u001b[?25hRequirement already satisfied: packaging in /usr/local/lib/python3.7/dist-packages (from transformers==3) (21.2)\n",
            "Collecting tokenizers==0.8.0-rc4\n",
            "  Downloading tokenizers-0.8.0rc4-cp37-cp37m-manylinux1_x86_64.whl (3.0 MB)\n",
            "\u001b[K     |████████████████████████████████| 3.0 MB 35.4 MB/s \n",
            "\u001b[?25hRequirement already satisfied: requests in /usr/local/lib/python3.7/dist-packages (from transformers==3) (2.23.0)\n",
            "Requirement already satisfied: filelock in /usr/local/lib/python3.7/dist-packages (from transformers==3) (3.3.2)\n",
            "Collecting sentencepiece\n",
            "  Downloading sentencepiece-0.1.96-cp37-cp37m-manylinux_2_17_x86_64.manylinux2014_x86_64.whl (1.2 MB)\n",
            "\u001b[K     |████████████████████████████████| 1.2 MB 35.4 MB/s \n",
            "\u001b[?25hRequirement already satisfied: numpy in /usr/local/lib/python3.7/dist-packages (from transformers==3) (1.19.5)\n",
            "Requirement already satisfied: tqdm>=4.27 in /usr/local/lib/python3.7/dist-packages (from transformers==3) (4.62.3)\n",
            "Requirement already satisfied: regex!=2019.12.17 in /usr/local/lib/python3.7/dist-packages (from transformers==3) (2019.12.20)\n",
            "Collecting sacremoses\n",
            "  Downloading sacremoses-0.0.46-py3-none-any.whl (895 kB)\n",
            "\u001b[K     |████████████████████████████████| 895 kB 35.4 MB/s \n",
            "\u001b[?25hRequirement already satisfied: pyparsing<3,>=2.0.2 in /usr/local/lib/python3.7/dist-packages (from packaging->transformers==3) (2.4.7)\n",
            "Requirement already satisfied: certifi>=2017.4.17 in /usr/local/lib/python3.7/dist-packages (from requests->transformers==3) (2021.10.8)\n",
            "Requirement already satisfied: urllib3!=1.25.0,!=1.25.1,<1.26,>=1.21.1 in /usr/local/lib/python3.7/dist-packages (from requests->transformers==3) (1.24.3)\n",
            "Requirement already satisfied: idna<3,>=2.5 in /usr/local/lib/python3.7/dist-packages (from requests->transformers==3) (2.10)\n",
            "Requirement already satisfied: chardet<4,>=3.0.2 in /usr/local/lib/python3.7/dist-packages (from requests->transformers==3) (3.0.4)\n",
            "Requirement already satisfied: joblib in /usr/local/lib/python3.7/dist-packages (from sacremoses->transformers==3) (1.1.0)\n",
            "Requirement already satisfied: six in /usr/local/lib/python3.7/dist-packages (from sacremoses->transformers==3) (1.15.0)\n",
            "Requirement already satisfied: click in /usr/local/lib/python3.7/dist-packages (from sacremoses->transformers==3) (7.1.2)\n",
            "Installing collected packages: tokenizers, sentencepiece, sacremoses, transformers\n",
            "Successfully installed sacremoses-0.0.46 sentencepiece-0.1.96 tokenizers-0.8.0rc4 transformers-3.0.0\n"
          ]
        }
      ]
    },
    {
      "cell_type": "code",
      "metadata": {
        "colab": {
          "base_uri": "https://localhost:8080/"
        },
        "id": "QLlxrvYvPQ_m",
        "outputId": "d8ca1ee1-ed5e-46e4-9798-268c62bf97e6"
      },
      "source": [
        "import numpy as np \n",
        "import pandas as pd \n",
        "import transformers\n",
        "from transformers import BertModel, BertTokenizer, AdamW, get_linear_schedule_with_warmup\n",
        "import torch\n",
        "from torch import nn, optim\n",
        "from torch.utils.data import Dataset, DataLoader\n",
        "import seaborn as sns\n",
        "from matplotlib import pyplot as plt\n",
        "from pylab import rcParams\n",
        "from sklearn.model_selection import train_test_split\n",
        "from sklearn.metrics import confusion_matrix, classification_report\n",
        "from collections import defaultdict\n",
        "from textwrap import wrap\n",
        "\n",
        "RANDOM_SEED = 42\n",
        "torch.manual_seed(RANDOM_SEED)\n",
        "np.random.seed(RANDOM_SEED)\n",
        "if torch.cuda.is_available():\n",
        "  device = torch.device(\"cuda:0\")\n",
        "  print(torch.cuda.get_device_name(0))\n",
        "else:\n",
        "  device = torch.device(\"cpu\")\n",
        "  print(\"cpu\")"
      ],
      "execution_count": null,
      "outputs": [
        {
          "output_type": "stream",
          "name": "stdout",
          "text": [
            "cpu\n"
          ]
        }
      ]
    },
    {
      "cell_type": "code",
      "metadata": {
        "colab": {
          "base_uri": "https://localhost:8080/",
          "height": 204
        },
        "id": "7qe6ZwCTPYBm",
        "outputId": "54e8a6b5-3971-4654-998a-8fced2445464"
      },
      "source": [
        "def read_data2(filename):\n",
        "    # read in csv\n",
        "    df = pd.read_csv(filename)\n",
        "    \n",
        "    df = df.drop('Unnamed: 0', axis = 1)\n",
        "    return df\n",
        "\n",
        "# load cleaned file with sentiment data\n",
        "new = read_data2('/content/drive/MyDrive/updated_bias_articles.csv')\n",
        "new.head()"
      ],
      "execution_count": null,
      "outputs": [
        {
          "output_type": "execute_result",
          "data": {
            "text/html": [
              "<div>\n",
              "<style scoped>\n",
              "    .dataframe tbody tr th:only-of-type {\n",
              "        vertical-align: middle;\n",
              "    }\n",
              "\n",
              "    .dataframe tbody tr th {\n",
              "        vertical-align: top;\n",
              "    }\n",
              "\n",
              "    .dataframe thead th {\n",
              "        text-align: right;\n",
              "    }\n",
              "</style>\n",
              "<table border=\"1\" class=\"dataframe\">\n",
              "  <thead>\n",
              "    <tr style=\"text-align: right;\">\n",
              "      <th></th>\n",
              "      <th>Title</th>\n",
              "      <th>Text</th>\n",
              "      <th>Source</th>\n",
              "      <th>Bias</th>\n",
              "      <th>Sentences</th>\n",
              "      <th>Reading</th>\n",
              "      <th>Length</th>\n",
              "    </tr>\n",
              "  </thead>\n",
              "  <tbody>\n",
              "    <tr>\n",
              "      <th>0</th>\n",
              "      <td>Michigan wants to lead U.S. in electric vehicl...</td>\n",
              "      <td>The Dearborn-based automaker chose Tennessee f...</td>\n",
              "      <td>Bridgemi</td>\n",
              "      <td>4</td>\n",
              "      <td>52</td>\n",
              "      <td>72.0</td>\n",
              "      <td>1248</td>\n",
              "    </tr>\n",
              "    <tr>\n",
              "      <th>1</th>\n",
              "      <td>Republicans’ hold on Lansing power could grow ...</td>\n",
              "      <td>From a purely geographic perspective, most of ...</td>\n",
              "      <td>Bridgemi</td>\n",
              "      <td>4</td>\n",
              "      <td>17</td>\n",
              "      <td>84.3</td>\n",
              "      <td>331</td>\n",
              "    </tr>\n",
              "    <tr>\n",
              "      <th>2</th>\n",
              "      <td>Dueling gatherings highlight split as Michigan...</td>\n",
              "      <td>“The focus of the last election is always goin...</td>\n",
              "      <td>Bridgemi</td>\n",
              "      <td>4</td>\n",
              "      <td>21</td>\n",
              "      <td>29.2</td>\n",
              "      <td>371</td>\n",
              "    </tr>\n",
              "    <tr>\n",
              "      <th>3</th>\n",
              "      <td>Michigan counties dump mask rules for thousand...</td>\n",
              "      <td>Marquette, Ottawa, Washtenaw and Kent county h...</td>\n",
              "      <td>Bridgemi</td>\n",
              "      <td>4</td>\n",
              "      <td>82</td>\n",
              "      <td>36.3</td>\n",
              "      <td>1500</td>\n",
              "    </tr>\n",
              "    <tr>\n",
              "      <th>4</th>\n",
              "      <td>Gov. Gretchen Whitmer signs $70B Michigan budg...</td>\n",
              "      <td>The finalized legislation, brokered by Whitmer...</td>\n",
              "      <td>Bridgemi</td>\n",
              "      <td>4</td>\n",
              "      <td>66</td>\n",
              "      <td>41.7</td>\n",
              "      <td>1363</td>\n",
              "    </tr>\n",
              "  </tbody>\n",
              "</table>\n",
              "</div>"
            ],
            "text/plain": [
              "                                               Title  ... Length\n",
              "0  Michigan wants to lead U.S. in electric vehicl...  ...   1248\n",
              "1  Republicans’ hold on Lansing power could grow ...  ...    331\n",
              "2  Dueling gatherings highlight split as Michigan...  ...    371\n",
              "3  Michigan counties dump mask rules for thousand...  ...   1500\n",
              "4  Gov. Gretchen Whitmer signs $70B Michigan budg...  ...   1363\n",
              "\n",
              "[5 rows x 7 columns]"
            ]
          },
          "metadata": {},
          "execution_count": 4
        }
      ]
    },
    {
      "cell_type": "code",
      "metadata": {
        "id": "DluTLYF0Pt6G"
      },
      "source": [
        "PRE_TRAINED_MODEL_NAME = 'bert-base-uncased'"
      ],
      "execution_count": null,
      "outputs": []
    },
    {
      "cell_type": "code",
      "metadata": {
        "id": "vQmhER9hPz3k",
        "colab": {
          "base_uri": "https://localhost:8080/",
          "height": 49,
          "referenced_widgets": [
            "c6c744eba9124275bcd1411d84d7e5d3",
            "b6f7e3daefd2490b8b1dd06c9f907047",
            "15b6cbf6a92748ff842516c005613251",
            "8a9d50befbb24b73a8640d2e595c5790",
            "1765849eb5f24408b2242c2733ee96fd",
            "3085912d4ded4d67bf9e3d72da86ecb4",
            "19c210ea3d6e46ccade776565228e41b",
            "409fcefbedaa478ca20e889ae070bc64",
            "c81140974a914fac8a0e1c5c32ed4e7b",
            "a06a77d780d74a7b8f9a7500943e1ebc",
            "9cd22831718348a59f41d2d2d43db2fb"
          ]
        },
        "outputId": "11c0d188-866d-499f-db55-30bd2f6ccd05"
      },
      "source": [
        "tokenizer = BertTokenizer.from_pretrained(PRE_TRAINED_MODEL_NAME)"
      ],
      "execution_count": null,
      "outputs": [
        {
          "output_type": "display_data",
          "data": {
            "application/vnd.jupyter.widget-view+json": {
              "model_id": "c6c744eba9124275bcd1411d84d7e5d3",
              "version_minor": 0,
              "version_major": 2
            },
            "text/plain": [
              "Downloading:   0%|          | 0.00/232k [00:00<?, ?B/s]"
            ]
          },
          "metadata": {}
        }
      ]
    },
    {
      "cell_type": "code",
      "metadata": {
        "id": "J0TmK6t6P7fj"
      },
      "source": [
        "classes = ['Left','Center','Lean Right','Right']\n"
      ],
      "execution_count": null,
      "outputs": []
    },
    {
      "cell_type": "code",
      "metadata": {
        "id": "22a86caSQ7w2"
      },
      "source": [
        "class MediaBiasDataset(Dataset):\n",
        "#Creating a media bias dataset\n",
        "  def __init__(self, reviews, targets, tokenizer, max_len):\n",
        "    self.reviews = reviews\n",
        "    self.targets = targets\n",
        "    self.tokenizer = tokenizer\n",
        "    self.max_len = max_len\n",
        "    \n",
        "  def __len__(self):\n",
        "    return len(self.reviews)  \n",
        "  \n",
        "  def __getitem__(self, item):\n",
        "    review = str(self.reviews[item]) \n",
        "    target = self.targets[item] #bias\n",
        "    \n",
        "    encoding = self.tokenizer.encode_plus(\n",
        "      review,\n",
        "      add_special_tokens=True, # addding [CLS] and [SEP] tokens\n",
        "      max_length=self.max_len,\n",
        "      return_token_type_ids=False,\n",
        "      truncation=True, #trunction for max length\n",
        "      pad_to_max_length=True,\n",
        "      return_attention_mask=True,\n",
        "      return_tensors='pt', #PyTorch tensors\n",
        "    )\n",
        " \n",
        "    return {\n",
        "      'review_text': review,\n",
        "      'input_ids': encoding['input_ids'].flatten(),\n",
        "      'attention_mask': encoding['attention_mask'].flatten(),\n",
        "      'targets': torch.tensor(target, dtype=torch.long)\n",
        "    }"
      ],
      "execution_count": null,
      "outputs": []
    },
    {
      "cell_type": "code",
      "metadata": {
        "id": "cIFcUxsPeQbj"
      },
      "source": [
        "new = new.sample(frac=1).reset_index(drop=True)"
      ],
      "execution_count": null,
      "outputs": []
    },
    {
      "cell_type": "code",
      "metadata": {
        "id": "Cf6HcHXkRmqP"
      },
      "source": [
        "train=new[0:int(0.9*len(new))]\n",
        "test=new[int(0.9*len(new)):]"
      ],
      "execution_count": null,
      "outputs": []
    },
    {
      "cell_type": "code",
      "metadata": {
        "colab": {
          "base_uri": "https://localhost:8080/",
          "height": 419
        },
        "id": "YUR77n7DSVRR",
        "outputId": "a521c12a-f262-4dd4-caee-1c1aa163d3c9"
      },
      "source": [
        "train"
      ],
      "execution_count": null,
      "outputs": [
        {
          "output_type": "execute_result",
          "data": {
            "text/html": [
              "<div>\n",
              "<style scoped>\n",
              "    .dataframe tbody tr th:only-of-type {\n",
              "        vertical-align: middle;\n",
              "    }\n",
              "\n",
              "    .dataframe tbody tr th {\n",
              "        vertical-align: top;\n",
              "    }\n",
              "\n",
              "    .dataframe thead th {\n",
              "        text-align: right;\n",
              "    }\n",
              "</style>\n",
              "<table border=\"1\" class=\"dataframe\">\n",
              "  <thead>\n",
              "    <tr style=\"text-align: right;\">\n",
              "      <th></th>\n",
              "      <th>Title</th>\n",
              "      <th>Text</th>\n",
              "      <th>Source</th>\n",
              "      <th>Bias</th>\n",
              "      <th>Sentences</th>\n",
              "      <th>Reading</th>\n",
              "      <th>Length</th>\n",
              "    </tr>\n",
              "  </thead>\n",
              "  <tbody>\n",
              "    <tr>\n",
              "      <th>0</th>\n",
              "      <td>Dolly Parton responds to Lil Nas X's cover of ...</td>\n",
              "      <td>Country star and gay icon Dolly Parton respond...</td>\n",
              "      <td>NBC</td>\n",
              "      <td>2</td>\n",
              "      <td>23</td>\n",
              "      <td>47.8</td>\n",
              "      <td>486</td>\n",
              "    </tr>\n",
              "    <tr>\n",
              "      <th>1</th>\n",
              "      <td>French average of new COVID-19 cases drops bel...</td>\n",
              "      <td>PARIS: The French seven-day average of new COV...</td>\n",
              "      <td>Channel News</td>\n",
              "      <td>4</td>\n",
              "      <td>6</td>\n",
              "      <td>82.6</td>\n",
              "      <td>164</td>\n",
              "    </tr>\n",
              "    <tr>\n",
              "      <th>2</th>\n",
              "      <td>CNBC AND ACORNS ANNOUNCE STRATEGIC PARTNERSHIP</td>\n",
              "      <td>CNBC TO PROVIDE EDITORIAL AND PRODUCTION EXPER...</td>\n",
              "      <td>NBC</td>\n",
              "      <td>2</td>\n",
              "      <td>60</td>\n",
              "      <td>23.9</td>\n",
              "      <td>754</td>\n",
              "    </tr>\n",
              "    <tr>\n",
              "      <th>3</th>\n",
              "      <td>Commentary: Why do K-pop fandoms spend so much...</td>\n",
              "      <td>SINGAPORE: The United Nations General Assembly...</td>\n",
              "      <td>Channel News</td>\n",
              "      <td>4</td>\n",
              "      <td>13</td>\n",
              "      <td>34.4</td>\n",
              "      <td>264</td>\n",
              "    </tr>\n",
              "    <tr>\n",
              "      <th>4</th>\n",
              "      <td>Japan’s Comeback Game: Can Japan's Gaming Indu...</td>\n",
              "      <td>About the show:\\n\\n25 years ago, Japan control...</td>\n",
              "      <td>Channel News</td>\n",
              "      <td>4</td>\n",
              "      <td>9</td>\n",
              "      <td>11.7</td>\n",
              "      <td>179</td>\n",
              "    </tr>\n",
              "    <tr>\n",
              "      <th>...</th>\n",
              "      <td>...</td>\n",
              "      <td>...</td>\n",
              "      <td>...</td>\n",
              "      <td>...</td>\n",
              "      <td>...</td>\n",
              "      <td>...</td>\n",
              "      <td>...</td>\n",
              "    </tr>\n",
              "    <tr>\n",
              "      <th>1553</th>\n",
              "      <td>Best sunscreen for kids, according to dermatol...</td>\n",
              "      <td>Our editors independently selected these items...</td>\n",
              "      <td>NBC</td>\n",
              "      <td>2</td>\n",
              "      <td>81</td>\n",
              "      <td>20.6</td>\n",
              "      <td>1417</td>\n",
              "    </tr>\n",
              "    <tr>\n",
              "      <th>1554</th>\n",
              "      <td>China roundup: Tesla supplier CATL to buy Cana...</td>\n",
              "      <td>Hello and welcome back to TechCrunch’s China r...</td>\n",
              "      <td>Tech Crunch</td>\n",
              "      <td>2</td>\n",
              "      <td>35</td>\n",
              "      <td>23.5</td>\n",
              "      <td>715</td>\n",
              "    </tr>\n",
              "    <tr>\n",
              "      <th>1555</th>\n",
              "      <td>How to organize your refrigerator, according t...</td>\n",
              "      <td>Our editors independently selected these items...</td>\n",
              "      <td>NBC</td>\n",
              "      <td>2</td>\n",
              "      <td>81</td>\n",
              "      <td>19.5</td>\n",
              "      <td>1690</td>\n",
              "    </tr>\n",
              "    <tr>\n",
              "      <th>1556</th>\n",
              "      <td>From a $1.649M corner-unit condo at Yonge &amp; Bl...</td>\n",
              "      <td>See what’s on the market in the GTA with a sel...</td>\n",
              "      <td>The Star</td>\n",
              "      <td>1</td>\n",
              "      <td>47</td>\n",
              "      <td>86.8</td>\n",
              "      <td>497</td>\n",
              "    </tr>\n",
              "    <tr>\n",
              "      <th>1557</th>\n",
              "      <td>New study finds flu, COVID vaccines safe to ad...</td>\n",
              "      <td>A new British study has determined it is safe ...</td>\n",
              "      <td>FOX</td>\n",
              "      <td>1</td>\n",
              "      <td>13</td>\n",
              "      <td>36.7</td>\n",
              "      <td>326</td>\n",
              "    </tr>\n",
              "  </tbody>\n",
              "</table>\n",
              "<p>1558 rows × 7 columns</p>\n",
              "</div>"
            ],
            "text/plain": [
              "                                                  Title  ... Length\n",
              "0     Dolly Parton responds to Lil Nas X's cover of ...  ...    486\n",
              "1     French average of new COVID-19 cases drops bel...  ...    164\n",
              "2        CNBC AND ACORNS ANNOUNCE STRATEGIC PARTNERSHIP  ...    754\n",
              "3     Commentary: Why do K-pop fandoms spend so much...  ...    264\n",
              "4     Japan’s Comeback Game: Can Japan's Gaming Indu...  ...    179\n",
              "...                                                 ...  ...    ...\n",
              "1553  Best sunscreen for kids, according to dermatol...  ...   1417\n",
              "1554  China roundup: Tesla supplier CATL to buy Cana...  ...    715\n",
              "1555  How to organize your refrigerator, according t...  ...   1690\n",
              "1556  From a $1.649M corner-unit condo at Yonge & Bl...  ...    497\n",
              "1557  New study finds flu, COVID vaccines safe to ad...  ...    326\n",
              "\n",
              "[1558 rows x 7 columns]"
            ]
          },
          "metadata": {},
          "execution_count": 11
        }
      ]
    },
    {
      "cell_type": "code",
      "metadata": {
        "colab": {
          "base_uri": "https://localhost:8080/",
          "height": 419
        },
        "id": "o_w5-cvhScHf",
        "outputId": "756d10ef-3a02-45e0-9bb8-bda5e42f509a"
      },
      "source": [
        "test"
      ],
      "execution_count": null,
      "outputs": [
        {
          "output_type": "execute_result",
          "data": {
            "text/html": [
              "<div>\n",
              "<style scoped>\n",
              "    .dataframe tbody tr th:only-of-type {\n",
              "        vertical-align: middle;\n",
              "    }\n",
              "\n",
              "    .dataframe tbody tr th {\n",
              "        vertical-align: top;\n",
              "    }\n",
              "\n",
              "    .dataframe thead th {\n",
              "        text-align: right;\n",
              "    }\n",
              "</style>\n",
              "<table border=\"1\" class=\"dataframe\">\n",
              "  <thead>\n",
              "    <tr style=\"text-align: right;\">\n",
              "      <th></th>\n",
              "      <th>Title</th>\n",
              "      <th>Text</th>\n",
              "      <th>Source</th>\n",
              "      <th>Bias</th>\n",
              "      <th>Sentences</th>\n",
              "      <th>Reading</th>\n",
              "      <th>Length</th>\n",
              "    </tr>\n",
              "  </thead>\n",
              "  <tbody>\n",
              "    <tr>\n",
              "      <th>1558</th>\n",
              "      <td>Framework for Attorney-General to intervene in...</td>\n",
              "      <td>SINGAPORE: Amendments to the law to create a s...</td>\n",
              "      <td>Channel News</td>\n",
              "      <td>4</td>\n",
              "      <td>12</td>\n",
              "      <td>86.0</td>\n",
              "      <td>339</td>\n",
              "    </tr>\n",
              "    <tr>\n",
              "      <th>1559</th>\n",
              "      <td>OPP charge third person in alleged $11M COVID-...</td>\n",
              "      <td>Ontario Provincial Police have charged a third...</td>\n",
              "      <td>The Star</td>\n",
              "      <td>1</td>\n",
              "      <td>37</td>\n",
              "      <td>46.8</td>\n",
              "      <td>712</td>\n",
              "    </tr>\n",
              "    <tr>\n",
              "      <th>1560</th>\n",
              "      <td>How to make crispy chicken parmesan in your ai...</td>\n",
              "      <td>Crispy and gooey when done right, but too ofte...</td>\n",
              "      <td>NBC</td>\n",
              "      <td>2</td>\n",
              "      <td>29</td>\n",
              "      <td>11.6</td>\n",
              "      <td>475</td>\n",
              "    </tr>\n",
              "    <tr>\n",
              "      <th>1561</th>\n",
              "      <td>Australia: Crocodile sinks his teeth into a fl...</td>\n",
              "      <td>A crocodile leapt out of the water at a wildli...</td>\n",
              "      <td>BBC</td>\n",
              "      <td>2</td>\n",
              "      <td>2</td>\n",
              "      <td>17.6</td>\n",
              "      <td>32</td>\n",
              "    </tr>\n",
              "    <tr>\n",
              "      <th>1562</th>\n",
              "      <td>How David Chase got over his fear of a Soprano...</td>\n",
              "      <td>“Jim and I had very little communication in th...</td>\n",
              "      <td>Washington Post</td>\n",
              "      <td>1</td>\n",
              "      <td>7</td>\n",
              "      <td>11.9</td>\n",
              "      <td>108</td>\n",
              "    </tr>\n",
              "    <tr>\n",
              "      <th>...</th>\n",
              "      <td>...</td>\n",
              "      <td>...</td>\n",
              "      <td>...</td>\n",
              "      <td>...</td>\n",
              "      <td>...</td>\n",
              "      <td>...</td>\n",
              "      <td>...</td>\n",
              "    </tr>\n",
              "    <tr>\n",
              "      <th>1727</th>\n",
              "      <td>Durham PC MPP stripped of legislative role for...</td>\n",
              "      <td>Send this page to someone via email\\n\\nTORONTO...</td>\n",
              "      <td>Global News</td>\n",
              "      <td>3</td>\n",
              "      <td>6</td>\n",
              "      <td>67.9</td>\n",
              "      <td>126</td>\n",
              "    </tr>\n",
              "    <tr>\n",
              "      <th>1728</th>\n",
              "      <td>Freedom of thought is delightful. It can also ...</td>\n",
              "      <td>I’m indebted to the People’s Party candidate i...</td>\n",
              "      <td>The Star</td>\n",
              "      <td>1</td>\n",
              "      <td>47</td>\n",
              "      <td>12.9</td>\n",
              "      <td>709</td>\n",
              "    </tr>\n",
              "    <tr>\n",
              "      <th>1729</th>\n",
              "      <td>'Irreplaceable' audio of deceased Innu elders ...</td>\n",
              "      <td>A cultural guardian for the Innu Nation in Lab...</td>\n",
              "      <td>CBC</td>\n",
              "      <td>2</td>\n",
              "      <td>46</td>\n",
              "      <td>47.3</td>\n",
              "      <td>830</td>\n",
              "    </tr>\n",
              "    <tr>\n",
              "      <th>1730</th>\n",
              "      <td>Leafs, Raptors expect Scotiabank Arena to be a...</td>\n",
              "      <td>The Toronto Maple Leafs and Toronto Raptors ar...</td>\n",
              "      <td>The Star</td>\n",
              "      <td>1</td>\n",
              "      <td>24</td>\n",
              "      <td>41.2</td>\n",
              "      <td>479</td>\n",
              "    </tr>\n",
              "    <tr>\n",
              "      <th>1731</th>\n",
              "      <td>RCMP searching for Airdrie, Alta. couple to ch...</td>\n",
              "      <td>Send this page to someone via email\\n\\nRCMP ar...</td>\n",
              "      <td>Global News</td>\n",
              "      <td>3</td>\n",
              "      <td>6</td>\n",
              "      <td>54.0</td>\n",
              "      <td>103</td>\n",
              "    </tr>\n",
              "  </tbody>\n",
              "</table>\n",
              "<p>174 rows × 7 columns</p>\n",
              "</div>"
            ],
            "text/plain": [
              "                                                  Title  ... Length\n",
              "1558  Framework for Attorney-General to intervene in...  ...    339\n",
              "1559  OPP charge third person in alleged $11M COVID-...  ...    712\n",
              "1560  How to make crispy chicken parmesan in your ai...  ...    475\n",
              "1561  Australia: Crocodile sinks his teeth into a fl...  ...     32\n",
              "1562  How David Chase got over his fear of a Soprano...  ...    108\n",
              "...                                                 ...  ...    ...\n",
              "1727  Durham PC MPP stripped of legislative role for...  ...    126\n",
              "1728  Freedom of thought is delightful. It can also ...  ...    709\n",
              "1729  'Irreplaceable' audio of deceased Innu elders ...  ...    830\n",
              "1730  Leafs, Raptors expect Scotiabank Arena to be a...  ...    479\n",
              "1731  RCMP searching for Airdrie, Alta. couple to ch...  ...    103\n",
              "\n",
              "[174 rows x 7 columns]"
            ]
          },
          "metadata": {},
          "execution_count": 12
        }
      ]
    },
    {
      "cell_type": "code",
      "metadata": {
        "id": "8hZpL_bNQ7vJ"
      },
      "source": [
        "\n",
        "d_train, d_test = train_test_split(\n",
        "  train,\n",
        "  test_size=0.1,\n",
        "  random_state=RANDOM_SEED\n",
        ")\n",
        "d_val, d_test = train_test_split(\n",
        "  test,\n",
        "  test_size=0.5,\n",
        "  random_state=RANDOM_SEED\n",
        ")"
      ],
      "execution_count": null,
      "outputs": []
    },
    {
      "cell_type": "code",
      "metadata": {
        "id": "7uVsCjTwSw6u"
      },
      "source": [
        "MAX_LEN=160"
      ],
      "execution_count": null,
      "outputs": []
    },
    {
      "cell_type": "code",
      "metadata": {
        "id": "agPIRfSBSnF9"
      },
      "source": [
        "\n",
        "def dataloader(dataframe, tokenizer, max_len, batch_size):\n",
        "#dataloader for pytorch dataset\n",
        "\n",
        "  dataset = MediaBiasDataset(\n",
        "    reviews = dataframe.Text.to_numpy(), #converting to numpy array\n",
        "    targets = dataframe.Bias.to_numpy(),  #converting to numpy array\n",
        "    max_len=max_len, # setting the maximum length\n",
        "    tokenizer=tokenizer,\n",
        "    \n",
        "  )\n",
        "\n",
        "  return DataLoader(\n",
        "    dataset,\n",
        "    num_workers=2,\n",
        "    batch_size=batch_size,\n",
        "  )"
      ],
      "execution_count": null,
      "outputs": []
    },
    {
      "cell_type": "code",
      "metadata": {
        "id": "E-x8hXWzS1pm"
      },
      "source": [
        "BATCH_SIZE = 16\n",
        "train_dataloader = dataloader(d_train, tokenizer, MAX_LEN, BATCH_SIZE)\n",
        "val_dataloader = dataloader(d_val, tokenizer, MAX_LEN, BATCH_SIZE)\n",
        "test_dataloader = dataloader(d_test, tokenizer, MAX_LEN, BATCH_SIZE)"
      ],
      "execution_count": null,
      "outputs": []
    },
    {
      "cell_type": "code",
      "metadata": {
        "id": "hxtvxwCqTH4Y",
        "colab": {
          "base_uri": "https://localhost:8080/",
          "height": 81,
          "referenced_widgets": [
            "4b8ca97f95034472bb322573d0bc3375",
            "0b9f77270a9b4ef58a00ebcac32e45bf",
            "79e55f8b5b2a414ea063fb289c1cc72a",
            "ba7aa2203d0849dd9447057331e94096",
            "ef60698351ea4680856f22b56619aabf",
            "1eb936b1306c4e6496a780a4770d44d5",
            "5e09c6eb8da149e2ae9ddc5e3ca8eaa0",
            "4ebd3dfb5f714acba39210f6766444ba",
            "a2bc3a57b7f442638c753cba2724c2f8",
            "676dbd8b5d6842dfad88a5d22e5eaece",
            "c4d1f753ce564a54b98e452e05a8add0",
            "e9eba8124e9a482abb774f227c61531e",
            "d4f194610fc244969835170a251c17d1",
            "0db35bfcfdbe4ae5968aa24908a99af9",
            "d63ec6204724478cacfbb1b8997ca634",
            "8d3dbe6b83bb477f8ef063f93c7b2ac5",
            "eb00a33b3af645d69330c48cbde65a70",
            "83fe00f9e70c4dac93e6d52711ab6a07",
            "c1434927a53d45e6993d2a792fd3a342",
            "e596f3a28eb54f69ab8d4d3d8ff61e60",
            "1b4d71503aa74693b9e1995020134e97",
            "8c48855ee91b4f1082f2e8c1bc444abb"
          ]
        },
        "outputId": "1fa482c7-efeb-4146-a625-cc24ecd67373"
      },
      "source": [
        "bert_model = BertModel.from_pretrained('bert-base-uncased')"
      ],
      "execution_count": null,
      "outputs": [
        {
          "output_type": "display_data",
          "data": {
            "application/vnd.jupyter.widget-view+json": {
              "model_id": "4b8ca97f95034472bb322573d0bc3375",
              "version_minor": 0,
              "version_major": 2
            },
            "text/plain": [
              "Downloading:   0%|          | 0.00/433 [00:00<?, ?B/s]"
            ]
          },
          "metadata": {}
        },
        {
          "output_type": "display_data",
          "data": {
            "application/vnd.jupyter.widget-view+json": {
              "model_id": "e9eba8124e9a482abb774f227c61531e",
              "version_minor": 0,
              "version_major": 2
            },
            "text/plain": [
              "Downloading:   0%|          | 0.00/440M [00:00<?, ?B/s]"
            ]
          },
          "metadata": {}
        }
      ]
    },
    {
      "cell_type": "code",
      "metadata": {
        "id": "raBQQHj5TPr-"
      },
      "source": [
        "class Classifier(nn.Module):\n",
        "  def __init__(self, n_classes):\n",
        "    super(Classifier, self).__init__()\n",
        "    self.bert = BertModel.from_pretrained(PRE_TRAINED_MODEL_NAME)\n",
        "    self.drop = nn.Dropout(p=0.3)\n",
        "    self.out = nn.Linear(self.bert.config.hidden_size, n_classes)\n",
        "  def forward(self, input_ids, attention_mask):\n",
        "    #using only [CLS] embedding, ignoring sequence output\n",
        "    _, pooled_output = self.bert(\n",
        "      input_ids=input_ids,\n",
        "      attention_mask=attention_mask,\n",
        "    )\n",
        "    output = self.drop(pooled_output)\n",
        "    return self.out(output)"
      ],
      "execution_count": null,
      "outputs": []
    },
    {
      "cell_type": "code",
      "metadata": {
        "colab": {
          "base_uri": "https://localhost:8080/"
        },
        "id": "N8oLP1HnTX6R",
        "outputId": "605e4f85-5e48-478f-9b21-b0547de5cd0a"
      },
      "source": [
        "data = next(iter(train_dataloader))\n",
        "data.keys()"
      ],
      "execution_count": null,
      "outputs": [
        {
          "output_type": "execute_result",
          "data": {
            "text/plain": [
              "dict_keys(['review_text', 'input_ids', 'attention_mask', 'targets'])"
            ]
          },
          "metadata": {},
          "execution_count": 19
        }
      ]
    },
    {
      "cell_type": "code",
      "metadata": {
        "id": "3XxMsvKLTbUp"
      },
      "source": [
        "model = Classifier(len(classes))\n",
        "model = model.to(device)"
      ],
      "execution_count": null,
      "outputs": []
    },
    {
      "cell_type": "code",
      "metadata": {
        "colab": {
          "base_uri": "https://localhost:8080/"
        },
        "id": "mrop_i-Gfzvh",
        "outputId": "652af67a-23a5-4b61-df61-4eb50108bef8"
      },
      "source": [
        "['targets']"
      ],
      "execution_count": null,
      "outputs": [
        {
          "output_type": "execute_result",
          "data": {
            "text/plain": [
              "['targets']"
            ]
          },
          "metadata": {},
          "execution_count": 86
        }
      ]
    },
    {
      "cell_type": "code",
      "metadata": {
        "id": "xxzUXRWQTe-R"
      },
      "source": [
        "\n",
        "input_ids = data['input_ids'].to(device)\n",
        "attention_mask = data['attention_mask'].to(device)"
      ],
      "execution_count": null,
      "outputs": []
    },
    {
      "cell_type": "code",
      "metadata": {
        "id": "jhv868hNTiYy"
      },
      "source": [
        "EPOCHS = 3\n",
        "optimizer = AdamW(model.parameters(), lr=2e-5, correct_bias=False)\n",
        "total_steps = len(train_dataloader) * EPOCHS\n",
        "scheduler = get_linear_schedule_with_warmup(\n",
        "  optimizer,\n",
        "  num_warmup_steps=0,\n",
        "  num_training_steps=total_steps\n",
        ")\n",
        "loss_fn = nn.CrossEntropyLoss().to(device)\n"
      ],
      "execution_count": null,
      "outputs": []
    },
    {
      "cell_type": "code",
      "metadata": {
        "id": "ohXx2W9bTiU9"
      },
      "source": [
        "\n",
        "def train_epoch(\n",
        "  model,\n",
        "  data_loader,\n",
        "  loss_fn,\n",
        "  optimizer,\n",
        "  device,\n",
        "  scheduler,\n",
        "  n_examples\n",
        "):\n",
        "  model = model.train()\n",
        "  losses = []\n",
        "  correct_predictions = 0\n",
        "  for d in data_loader:\n",
        "    input_ids = d[\"input_ids\"].to(device)\n",
        "    attention_mask = d[\"attention_mask\"].to(device)\n",
        "    targets = d[\"targets\"].to(device)\n",
        "    targets=targets-1\n",
        "    outputs = model(\n",
        "      input_ids=input_ids,\n",
        "      attention_mask=attention_mask\n",
        "    )\n",
        "    _, preds = torch.max(outputs, dim=1)\n",
        "    loss = loss_fn(outputs, targets)\n",
        "    correct_predictions += torch.sum(preds == targets)\n",
        "    losses.append(loss.item())\n",
        "    loss.backward()\n",
        "    nn.utils.clip_grad_norm_(model.parameters(), max_norm=1.0)\n",
        "    optimizer.step()\n",
        "    scheduler.step()\n",
        "    optimizer.zero_grad()\n",
        "  return correct_predictions.double() / n_examples, np.mean(losses)\n"
      ],
      "execution_count": null,
      "outputs": []
    },
    {
      "cell_type": "code",
      "metadata": {
        "id": "p6-Z8NQqTv7u"
      },
      "source": [
        "def eval_model(model, data_loader, loss_fn, device, n_examples):\n",
        "  model = model.eval()\n",
        "  losses = []\n",
        "  correct_predictions = 0\n",
        "  with torch.no_grad():\n",
        "    for d in data_loader:\n",
        "      input_ids = d[\"input_ids\"].to(device)\n",
        "      attention_mask = d[\"attention_mask\"].to(device)\n",
        "      targets = d[\"targets\"].to(device)\n",
        "      targets=targets-1\n",
        "      outputs = model(\n",
        "        input_ids=input_ids,\n",
        "        attention_mask=attention_mask\n",
        "      )\n",
        "      _, preds = torch.max(outputs, dim=1)\n",
        "      loss = loss_fn(outputs, targets)\n",
        "      correct_predictions += torch.sum(preds == targets)\n",
        "      losses.append(loss.item())\n",
        "  return correct_predictions.double() / n_examples, np.mean(losses)"
      ],
      "execution_count": null,
      "outputs": []
    },
    {
      "cell_type": "code",
      "metadata": {
        "colab": {
          "base_uri": "https://localhost:8080/"
        },
        "id": "tKLuePUNT3_A",
        "outputId": "41c6b8da-757c-465e-d4f4-5708c7402381"
      },
      "source": [
        "\n",
        "history = defaultdict(list)\n",
        "best_accuracy = 0\n",
        "for epoch in range(EPOCHS):\n",
        "  print(f'Epoch {epoch + 1}/{EPOCHS}')\n",
        "  print('-' * 10)\n",
        "  train_acc, train_loss = train_epoch(\n",
        "    model,\n",
        "    train_dataloader,\n",
        "    loss_fn,\n",
        "    optimizer,\n",
        "    device,\n",
        "    scheduler,\n",
        "    len(d_train)\n",
        "  )\n",
        "  print(f'Train loss {train_loss} accuracy {train_acc}')\n",
        "  val_acc, val_loss = eval_model(\n",
        "    model,\n",
        "    val_dataloader,\n",
        "    loss_fn,\n",
        "    device,\n",
        "    len(d_val)\n",
        "  )\n",
        "  print(f'Val loss {val_loss} accuracy {val_acc}')\n",
        "  print()\n",
        "  history['train_acc'].append(train_acc)\n",
        "  history['train_loss'].append(train_loss)\n",
        "  history['val_acc'].append(val_acc)\n",
        "  history['val_loss'].append(val_loss)\n",
        "  if val_acc > best_accuracy:\n",
        "    torch.save(model.state_dict(), 'best_model_state.bin')\n",
        "    best_accuracy = val_acc\n"
      ],
      "execution_count": null,
      "outputs": [
        {
          "output_type": "stream",
          "name": "stdout",
          "text": [
            "Epoch 1/3\n",
            "----------\n",
            "Train loss 0.9195554635741494 accuracy 0.5955777460770328\n",
            "Val loss 0.786500871181488 accuracy 0.6436781609195402\n",
            "\n",
            "Epoch 2/3\n",
            "----------\n",
            "Train loss 0.4236521441489458 accuracy 0.8359486447931527\n",
            "Val loss 0.7769037286440531 accuracy 0.7126436781609196\n",
            "\n",
            "Epoch 3/3\n",
            "----------\n",
            "Train loss 0.2061714158308777 accuracy 0.9322396576319544\n",
            "Val loss 0.7069012721379598 accuracy 0.7586206896551724\n",
            "\n"
          ]
        }
      ]
    },
    {
      "cell_type": "code",
      "metadata": {
        "colab": {
          "base_uri": "https://localhost:8080/"
        },
        "id": "RodzZe4ochmr",
        "outputId": "cf6d54ae-fa4e-4180-a10a-546ddcea5335"
      },
      "source": [
        "import joblib\n",
        "\n",
        "\n",
        "#dump our model into pickle file\n",
        "joblib.dump(model, '/content/drive/MyDrive/bert_model.pkl')"
      ],
      "execution_count": null,
      "outputs": [
        {
          "output_type": "execute_result",
          "data": {
            "text/plain": [
              "['/content/drive/MyDrive/bert_model.pkl']"
            ]
          },
          "metadata": {},
          "execution_count": 26
        }
      ]
    },
    {
      "cell_type": "code",
      "metadata": {
        "id": "apUDmRyrcsqy"
      },
      "source": [
        "def get_predictions(model, data_loader):\n",
        "  model = model.eval()\n",
        "  review_texts = []\n",
        "  predictions = []\n",
        "  prediction_probs = []\n",
        "  real_values = []\n",
        "  with torch.no_grad():\n",
        "    for d in data_loader:\n",
        "      texts = d[\"review_text\"]\n",
        "      input_ids = d[\"input_ids\"].to(device)\n",
        "      attention_mask = d[\"attention_mask\"].to(device)\n",
        "      targets = d[\"targets\"].to(device)\n",
        "      targets=targets-1\n",
        "      outputs = model(\n",
        "        input_ids=input_ids,\n",
        "        attention_mask=attention_mask\n",
        "      )\n",
        "      _, preds = torch.max(outputs, dim=1)\n",
        "      review_texts.extend(texts)\n",
        "      predictions.extend(preds)\n",
        "      prediction_probs.extend(outputs)\n",
        "      real_values.extend(targets)\n",
        "  predictions = torch.stack(predictions).cpu()\n",
        "  prediction_probs = torch.stack(prediction_probs).cpu()\n",
        "  real_values = torch.stack(real_values).cpu()\n",
        "  return review_texts, predictions, prediction_probs, real_values"
      ],
      "execution_count": null,
      "outputs": []
    },
    {
      "cell_type": "code",
      "metadata": {
        "id": "DCqX4vrbczJs"
      },
      "source": [
        "y_review_texts, y_pred, y_pred_probs, y_test = get_predictions(\n",
        "  model,\n",
        "  test_dataloader\n",
        ")"
      ],
      "execution_count": null,
      "outputs": []
    },
    {
      "cell_type": "code",
      "metadata": {
        "colab": {
          "base_uri": "https://localhost:8080/"
        },
        "id": "py5to5g6c3zz",
        "outputId": "44fe4c5f-9d61-4cf2-cfe5-bd9af7049abf"
      },
      "source": [
        "print(classification_report(y_test, y_pred, target_names=['Left','Center','Lean Right','Right']))"
      ],
      "execution_count": null,
      "outputs": [
        {
          "output_type": "stream",
          "name": "stdout",
          "text": [
            "              precision    recall  f1-score   support\n",
            "\n",
            "        Left       0.82      0.88      0.85        26\n",
            "      Center       0.70      0.76      0.73        21\n",
            "  Lean Right       0.00      0.00      0.00         5\n",
            "       Right       0.94      0.94      0.94        35\n",
            "\n",
            "    accuracy                           0.83        87\n",
            "   macro avg       0.61      0.65      0.63        87\n",
            "weighted avg       0.79      0.83      0.81        87\n",
            "\n"
          ]
        }
      ]
    }
  ]
}